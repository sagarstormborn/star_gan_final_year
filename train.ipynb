{
  "nbformat": 4,
  "nbformat_minor": 0,
  "metadata": {
    "colab": {
      "name": "train.ipynb",
      "provenance": [],
      "collapsed_sections": [],
      "mount_file_id": "1hGQuIGL1d6_IVtsbHVAdBJaL1Cp4EeBF",
      "authorship_tag": "ABX9TyNXmh7PLf4GNwS9g7AaLcQo",
      "include_colab_link": true
    },
    "kernelspec": {
      "name": "python3",
      "display_name": "Python 3"
    },
    "language_info": {
      "name": "python"
    },
    "accelerator": "GPU"
  },
  "cells": [
    {
      "cell_type": "markdown",
      "metadata": {
        "id": "view-in-github",
        "colab_type": "text"
      },
      "source": [
        "<a href=\"https://colab.research.google.com/github/sagarstormborn/star_gan_final_year/blob/main/train.ipynb\" target=\"_parent\"><img src=\"https://colab.research.google.com/assets/colab-badge.svg\" alt=\"Open In Colab\"/></a>"
      ]
    },
    {
      "cell_type": "code",
      "metadata": {
        "id": "Uh0VI73x70BM"
      },
      "source": [
        "import torch \n",
        "import torch.nn as nn\n",
        "\n",
        "class con_batch_glu(nn.Module):\n",
        "  def __init__(self,in_channels, out_channels, kernel_size, stride, padding, dilation=1, groups=1, bias=False, padding_mode='zeros'):\n",
        "    super(con_batch_glu,self).__init__()\n",
        "    self.architecture=nn.Sequential(\n",
        "        nn.Conv2d(in_channels, out_channels, kernel_size, stride, padding, dilation, groups,bias, padding_mode),\n",
        "        nn.BatchNorm2d(num_features=out_channels,affine=True, track_running_stats=True),\n",
        "    )\n",
        "  \n",
        "  def forward(self,x):\n",
        "    x=self.architecture(x)\n",
        "    x=nn.functional.glu(x,dim=1)\n",
        "    return x\n",
        "\n",
        "\n",
        "class Discriminator(nn.Module):\n",
        "\n",
        "  def __init__(self): \n",
        "    super(Discriminator,self).__init__()\n",
        "    self.para=[[32,(3,9),(1,1),(1, 4)],[32,(3,8),(1,2),(1, 3)],[32,(3,8),(1,2),(1, 3)],[32,(3,6),(1,2),(1, 2)]]\n",
        "\n",
        "    in_channels=5\n",
        "    i=0 #layer 1\n",
        "    self.layer1=con_batch_glu(in_channels,*self.para[i])\n",
        "    in_channels=(self.para[i][0])//2 +4\n",
        "    i+=1\n",
        "    self.layer2=con_batch_glu(in_channels,*self.para[i])\n",
        "    in_channels=(self.para[i][0])//2 +4\n",
        "    i+=1\n",
        "    self.layer3=con_batch_glu(in_channels,*self.para[i])\n",
        "    in_channels=(self.para[i][0])//2 +4\n",
        "    i+=1\n",
        "    self.layer4=con_batch_glu(in_channels,*self.para[i])\n",
        "    in_channels=(self.para[i][0])//2 \n",
        "\n",
        "\n",
        "    self.layer_con=nn.Conv2d(in_channels=in_channels, out_channels=1, kernel_size=(36,5), stride=(36,1), padding=(1,2))\n",
        "    self.pool=nn.AvgPool2d(kernel_size=(1,64))\n",
        "    \n",
        "\n",
        "  def forward(self,x,c):\n",
        "    c=c.view(c.shape[0],1,c.shape[1],c.shape[2]) # shape (nx1x4x4)\n",
        "\n",
        "    c1=c.repeat(1,4,9,128) #shape [n , 4, 36, 512]\n",
        "    x=torch.cat([x, c1], dim=1)\n",
        "    x=self.layer1(x)\n",
        "\n",
        "    c1=c.repeat(1,4,9,128) #shape [n , 4, 36, 512]\n",
        "    x=torch.cat([x, c1], dim=1)\n",
        "    x=self.layer2(x)\n",
        "\n",
        "    c1=c.repeat(1,4,9,64) #shape [n , 4, 36, 256]\n",
        "    x=torch.cat([x, c1], dim=1)\n",
        "    x=self.layer3(x)\n",
        "\n",
        "    c1=c.repeat(1,4,9,32) #shape [n , 4, 36, 32]\n",
        "    x=torch.cat([x, c1], dim=1)\n",
        "    x=self.layer4(x)\n",
        "\n",
        "    x=self.layer_con(x)\n",
        "\n",
        "    x=torch.sigmoid(x)\n",
        "    x=self.pool(x)\n",
        "    return x\n",
        "\n",
        "\n",
        "\n",
        "class Domain(nn.Module):\n",
        "  def __init__(self):\n",
        "    super(Domain,self).__init__()\n",
        "    self.para=[[8,(4,4),(2,2),(5, 1)],[16,(4,4),(2,2),(1,1)],[32,(4,4),(1,2),(0,1)],[16,(3,4),(1,2),(1,1)]]\n",
        "\n",
        "    layers=[]\n",
        "    in_channels=1\n",
        "    for i in range(len(self.para)):\n",
        "      layers.append(con_batch_glu(in_channels,*self.para[i]))\n",
        "      in_channels=self.para[i][0]//2\n",
        "\n",
        "    self.architecture=nn.Sequential(*layers)\n",
        "    self.architecture.add_module(\"conv\",nn.Conv2d(in_channels, out_channels=4, kernel_size=(1, 4), stride=(1, 2), padding=(0, 1) ))\n",
        "    self.architecture.add_module(\"softmax\", nn.Softmax(dim=-1))\n",
        "    self.architecture.add_module(\"pooling\",nn.AvgPool2d((1, 16)) )\n",
        "\n",
        "  def forward(self,x):\n",
        "    x=x[:,:,0:8,:]\n",
        "    x=self.architecture(x)\n",
        "    return x\n",
        "\n",
        "\n",
        "\n",
        "class decon_batch_glu(nn.Module):\n",
        "  def __init__(self,in_channels, out_channels, kernel_size, stride, padding, output_padding=0, groups=1, bias=False, dilation=1, padding_mode='zeros'):\n",
        "    super(decon_batch_glu,self).__init__()\n",
        "    self.architecture=nn.Sequential(\n",
        "        nn.ConvTranspose2d(in_channels, out_channels, kernel_size, stride,padding, output_padding, groups, bias, dilation, padding_mode),\n",
        "        nn.BatchNorm2d(num_features=out_channels,affine=True, track_running_stats=True),\n",
        "    )\n",
        "  \n",
        "  def forward(self,x):\n",
        "    x=self.architecture(x)\n",
        "    x=nn.functional.glu(x,dim=1)\n",
        "    return x\n",
        "\n",
        "\n",
        "class Generator(nn.Module):\n",
        "  def __init__(self):\n",
        "    super(Generator,self).__init__()\n",
        "    self.para=[[32,(3,9),1,(1, 4)],[64,(4,8),(2,2),(1, 3)],[128,(4,8),(2,2),(1,3)],[64,(3,5),(1,1),(1,2)],[10,(9,5),(9,1),(1,2)]]\n",
        "\n",
        "    layers=[]\n",
        "    in_channels=1\n",
        "    for i in range(len(self.para)):\n",
        "      layers.append(con_batch_glu(in_channels,*self.para[i]))\n",
        "      in_channels=self.para[i][0]//2\n",
        "\n",
        "    self.para_1=[[64,(9,5),(9,1),(0, 2)],[128,(3,5),1,(1, 2)],[64,(4,8),(2,2),(1, 3)],[32,(4,8),(2,2),(1, 3)]]\n",
        "\n",
        "    i=0 #layer 1\n",
        "    in_channels+=4\n",
        "    self.layer1=decon_batch_glu(in_channels,*self.para_1[i])\n",
        "    in_channels=(self.para_1[i][0])//2 +4\n",
        "    i+=1\n",
        "\n",
        "    self.layer2=decon_batch_glu(in_channels,*self.para_1[i])\n",
        "    in_channels=(self.para_1[i][0])//2 +4\n",
        "    i+=1\n",
        "\n",
        "    self.layer3=decon_batch_glu(in_channels,*self.para_1[i])\n",
        "    in_channels=(self.para_1[i][0])//2 +4\n",
        "    i+=1\n",
        "\n",
        "    self.layer4=decon_batch_glu(in_channels,*self.para_1[i])\n",
        "    in_channels=(self.para_1[i][0])//2 +4\n",
        "    i+=1\n",
        "    \n",
        "    self.architecture=nn.Sequential(*layers)\n",
        "    \n",
        "    self.decon=nn.ConvTranspose2d(in_channels, out_channels=1, kernel_size=(3, 9), stride=(1, 1), padding=(1,4) )\n",
        "\n",
        "    \n",
        "  def forward(self,x,c):\n",
        "    x=self.architecture(x)\n",
        "    c=c.view(c.shape[0],c.shape[1],1,c.shape[2]) # shape (nx1x4x4)\n",
        "\n",
        "    c1=c.repeat(1,1,1,32) #shape [n , 1, 1,128]\n",
        "    x=torch.cat([x, c1], dim=1)\n",
        "    x=self.layer1(x)\n",
        "\n",
        "    c1=c.repeat(1,1,9,32) #shape [n , 1, 9,128]\n",
        "    x=torch.cat([x, c1], dim=1)\n",
        "    x=self.layer2(x)\n",
        "\n",
        "    c1=c.repeat(1,1,9,32) #shape [n , 1, 9,128]\n",
        "    x=torch.cat([x, c1], dim=1)\n",
        "    x=self.layer3(x)\n",
        "\n",
        "    c1=c.repeat(1,1,18,64) #shape [n , 1,18,256]\n",
        "    x=torch.cat([x, c1], dim=1)\n",
        "    x=self.layer4(x)\n",
        "\n",
        "    c1=c.repeat(1,1,36,128) #shape [n ,1,36,512]\n",
        "    x=torch.cat([x, c1], dim=1)\n",
        "\n",
        "    x=self.decon(x)\n",
        "\n",
        "    return x"
      ],
      "execution_count": 1,
      "outputs": []
    },
    {
      "cell_type": "code",
      "metadata": {
        "id": "qzE-eFONFW9S"
      },
      "source": [
        "def initialize_weights(model):\n",
        "    # Initializes weights according to the DCGAN paper\n",
        "    for m in model.modules():\n",
        "        if isinstance(m, (nn.Conv2d, nn.ConvTranspose2d, nn.BatchNorm2d)):\n",
        "            nn.init.normal_(m.weight.data, 0.0, 0.02)"
      ],
      "execution_count": 2,
      "outputs": []
    },
    {
      "cell_type": "markdown",
      "metadata": {
        "id": "tH-RlE-Mpd9J"
      },
      "source": [
        "![image.png](data:image/png;base64,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)"
      ]
    },
    {
      "cell_type": "markdown",
      "metadata": {
        "id": "wt6TKE10pibD"
      },
      "source": [
        "no hyperperameter stargan vc details we given so used from the orignal stargan model \n"
      ]
    },
    {
      "cell_type": "code",
      "metadata": {
        "id": "IgjgIdHNmHWB"
      },
      "source": [
        "device = torch.device(\"cuda\" if torch.cuda.is_available() else \"cpu\")\n",
        "gen = Generator().to(device)\n",
        "disc = Discriminator().to(device)\n",
        "dom = Domain().to(device)\n",
        "\n",
        "initialize_weights(gen)\n",
        "initialize_weights(disc)\n",
        "initialize_weights(dom)\n",
        "\n",
        "\n",
        "criterion_BCE = nn.BCELoss() # for discriminator\n",
        "criterion_CEL=nn.BCELoss()#WithLogitsLoss #for domain_class\n",
        "# criterion_MSE=nn.MSELoss()      # not used \n",
        "criterion_MABS=nn.L1Loss()      # for identity\n",
        "\n",
        "opt_gen = torch.optim.Adam(gen.parameters(), 0.0001, [0.5,0.999])\n",
        "opt_disc = torch.optim.Adam(disc.parameters(),0.0001, [0.5,0.999])\n",
        "opt_dom = torch.optim.Adam(dom.parameters(), 0.0001, [0.5,0.999])\n"
      ],
      "execution_count": 3,
      "outputs": []
    },
    {
      "cell_type": "code",
      "metadata": {
        "id": "-3sfLt4p8LRo"
      },
      "source": [
        "from torch.utils.data import Dataset,DataLoader\n",
        "from glob import glob\n",
        "import numpy as np\n",
        "import multiprocessing\n",
        "\n",
        "\n",
        "class audio_data(Dataset):\n",
        "  def __init__(self,path=\"/content/drive/MyDrive/PREPROCESS_DATA/final_data/\"):\n",
        "    self.paths=glob(path+\"*\")\n",
        "    self.total_length=len(self.paths)\n",
        "\n",
        "  def __len__(self):\n",
        "    return self.total_length\n",
        "\n",
        "  def __getitem__(self,idx):\n",
        "    data=np.load(self.paths[idx])\n",
        "    mcc_features_s,mcc_features_t,c=data[\"mcc_features_s\"],data[\"mcc_features_t\"],data[\"c\"]\n",
        "    mcc_features_s=torch.Tensor(mcc_features_s)\n",
        "    mcc_features_t=torch.Tensor(mcc_features_t)\n",
        "    mcc_features_s,mcc_features_t=torch.transpose(mcc_features_s,0,1),torch.transpose(mcc_features_t,0,1)\n",
        "    mcc_features_s=mcc_features_s.view(1,36,-1)\n",
        "    mcc_features_t=mcc_features_t.view(1,36,-1)\n",
        "    \n",
        "    c=torch.Tensor(c)\n",
        "    c_t=torch.transpose(c,0,1)[(c == 1).nonzero(as_tuple=True)[1]].view(-1)  # get tensor like tensor([[0., 0., 1., 0.]], dtype=torch.float64)\n",
        "    c_s=c[(c == 1).nonzero(as_tuple=True)[0]].view(-1) # get tensor like tensor([[0., 1, 0., 0.]], dtype=torch.\n",
        "\n",
        "    return mcc_features_s,mcc_features_t,c,c_s,c_t\n",
        "\n",
        "dataset=audio_data()\n",
        "\n",
        "\n",
        "pool = multiprocessing.Pool() # for geting no of avai workers\n",
        "\n",
        "dataloader=DataLoader(dataset, batch_size=128, shuffle=True,\n",
        "          num_workers=pool._processes, collate_fn=None,\n",
        "           pin_memory=False, drop_last=False, timeout=0,\n",
        "           worker_init_fn=None, prefetch_factor=2,\n",
        "           persistent_workers=False)"
      ],
      "execution_count": 4,
      "outputs": []
    },
    {
      "cell_type": "code",
      "metadata": {
        "colab": {
          "base_uri": "https://localhost:8080/"
        },
        "id": "s3f03pILYVmM",
        "outputId": "073eda91-f788-499f-d37d-00d8ab2badba"
      },
      "source": [
        "# a,b,c,c_s,c_t=dataset[8]\n",
        "# # gen(a.view(1,1,36,512).to(device),c.view(1,4,4).to(device))\n",
        "# print(a.shape,b.shape,c.shape,c_s.shape,c_t.shape)\n",
        "# print(c_t,c_s)"
      ],
      "execution_count": 63,
      "outputs": [
        {
          "output_type": "stream",
          "text": [
            "torch.Size([1, 36, 512]) torch.Size([1, 36, 512]) torch.Size([4, 4]) torch.Size([4]) torch.Size([4])\n",
            "tensor([1., 0., 0., 0.]) tensor([0., 1., 0., 0.])\n"
          ],
          "name": "stdout"
        }
      ]
    },
    {
      "cell_type": "code",
      "metadata": {
        "colab": {
          "base_uri": "https://localhost:8080/"
        },
        "id": "PjfcvjAV8csK",
        "outputId": "dc92cb6d-136d-4bc5-ded5-58e73c7615de"
      },
      "source": [
        "from tqdm import tqdm\n",
        "\n",
        "NUM_EPOCHS=200\n",
        "\n",
        "for epoch in range(NUM_EPOCHS):\n",
        "  # print(epoch)\n",
        "\n",
        "  for ind,(mcc_features_s,mcc_features_t,c,c_s,c_t) in tqdm(enumerate(dataloader)):\n",
        "    mcc_features_s=mcc_features_s.to(device)\n",
        "    mcc_features_t=mcc_features_t.to(device)\n",
        "    c=c.to(device)\n",
        "    c_s=c_s.to(device)\n",
        "    c_t=c_t.to(device)\n",
        "\n",
        "    fake = gen(mcc_features_s,c)\n",
        "\n",
        "    ### Train Discriminator: max log(D(x)) + log(1 - D(G(z)))\n",
        "    disc_real = disc(mcc_features_t,c).reshape(-1)\n",
        "    loss_disc_real = criterion_BCE(disc_real, torch.ones_like(disc_real))\n",
        "\n",
        "    disc_fake = disc(fake.detach(),c).reshape(-1)\n",
        "    loss_disc_fake = criterion_BCE(disc_fake, torch.zeros_like(disc_fake))\n",
        "    loss_disc = (loss_disc_real + loss_disc_fake) # /2\n",
        "    loss_disc_=loss_disc\n",
        "\n",
        "    disc.zero_grad()\n",
        "    loss_disc.backward()\n",
        "    opt_disc.step()\n",
        "\n",
        "    ### Train domain_class\n",
        "\n",
        "    dom_real_t =dom(mcc_features_t).view(-1,4)\n",
        "    # dom_real_s =dom(mcc_features_s,c_s).reshape(-1)\n",
        "    # dom_fake_t  =dom(mcc_features_t,c_s).reshape(-1)\n",
        "    dom_fake_s  =dom(fake.detach()).view(-1,4)\n",
        "\n",
        "    # print(dom_real_t.shape,c_t.shape)\n",
        "\n",
        "    loss_dom_real = criterion_CEL(dom_real_t, c_t)\n",
        "\n",
        "    loss_dom_fake = criterion_CEL(dom_fake_s, c_s)\n",
        "    loss_dom = (loss_dom_fake  + loss_dom_real ) # /2\n",
        "    loss_dom_=loss_dom # for printing loss\n",
        "\n",
        "\n",
        "    dom.zero_grad()\n",
        "    loss_dom.backward()\n",
        "    opt_dom.step()\n",
        "\n",
        "\n",
        "\n",
        "    ### Train Generator: min log(1 - D(G(z))) <-> max log(D(G(z))\n",
        "    output_gen = disc(fake,c).reshape(-1)\n",
        "    loss_disc= criterion_BCE(output_gen, torch.ones_like(output_gen))\n",
        "\n",
        "    output_dom=dom(fake).view(-1,4)\n",
        "    loss_dom= criterion_CEL(output_dom, c_t)\n",
        "\n",
        "    output_iden=gen(mcc_features_s,torch.transpose(c,1,2))\n",
        "    loss_identi=criterion_MABS(output_iden,mcc_features_s)\n",
        "\n",
        "    output_cycle=gen(gen(mcc_features_s,c),torch.transpose(c,1,2))\n",
        "    loss_cycle=criterion_MABS(output_cycle,mcc_features_s)\n",
        "\n",
        "    loss_gen=(loss_disc+loss_dom+loss_identi+loss_cycle) # /4\n",
        "\n",
        "\n",
        "    gen.zero_grad()\n",
        "    loss_gen.backward()\n",
        "    opt_gen.step()\n",
        "    print(f\"epoch: {epoch} ,gen_loss: {loss_gen} disc_loss: {loss_disc_}, dom_loss: {loss_dom_}\")"
      ],
      "execution_count": null,
      "outputs": [
        {
          "output_type": "stream",
          "text": [
            "1it [00:03,  3.07s/it]"
          ],
          "name": "stderr"
        },
        {
          "output_type": "stream",
          "text": [
            "epoch: 0 ,gen_loss: 2.6856703758239746 disc_loss: 1.386296272277832, dom_loss: 1.4831020832061768\n"
          ],
          "name": "stdout"
        },
        {
          "output_type": "stream",
          "text": [
            "\r2it [00:05,  2.76s/it]"
          ],
          "name": "stderr"
        },
        {
          "output_type": "stream",
          "text": [
            "epoch: 0 ,gen_loss: 2.692261219024658 disc_loss: 1.3862910270690918, dom_loss: 1.4831020832061768\n"
          ],
          "name": "stdout"
        },
        {
          "output_type": "stream",
          "text": [
            "\r3it [00:07,  2.54s/it]"
          ],
          "name": "stderr"
        },
        {
          "output_type": "stream",
          "text": [
            "epoch: 0 ,gen_loss: 2.6941888332366943 disc_loss: 1.386286735534668, dom_loss: 1.4831020832061768\n"
          ],
          "name": "stdout"
        },
        {
          "output_type": "stream",
          "text": [
            "\r4it [00:09,  2.39s/it]"
          ],
          "name": "stderr"
        },
        {
          "output_type": "stream",
          "text": [
            "epoch: 0 ,gen_loss: 2.698641300201416 disc_loss: 1.3862791061401367, dom_loss: 1.4831020832061768\n"
          ],
          "name": "stdout"
        },
        {
          "output_type": "stream",
          "text": [
            "5it [00:10,  2.08s/it]"
          ],
          "name": "stderr"
        },
        {
          "output_type": "stream",
          "text": [
            "epoch: 0 ,gen_loss: 2.6847171783447266 disc_loss: 1.3862688541412354, dom_loss: 1.4831022024154663\n"
          ],
          "name": "stdout"
        },
        {
          "output_type": "stream",
          "text": [
            "\n",
            "1it [00:02,  2.89s/it]"
          ],
          "name": "stderr"
        },
        {
          "output_type": "stream",
          "text": [
            "epoch: 1 ,gen_loss: 2.685814619064331 disc_loss: 1.3862590789794922, dom_loss: 1.4831020832061768\n"
          ],
          "name": "stdout"
        },
        {
          "output_type": "stream",
          "text": [
            "\r2it [00:04,  2.64s/it]"
          ],
          "name": "stderr"
        },
        {
          "output_type": "stream",
          "text": [
            "epoch: 1 ,gen_loss: 2.693619966506958 disc_loss: 1.3862448930740356, dom_loss: 1.4831020832061768\n"
          ],
          "name": "stdout"
        },
        {
          "output_type": "stream",
          "text": [
            "\r3it [00:06,  2.46s/it]"
          ],
          "name": "stderr"
        },
        {
          "output_type": "stream",
          "text": [
            "epoch: 1 ,gen_loss: 2.693514347076416 disc_loss: 1.3862284421920776, dom_loss: 1.4831020832061768\n"
          ],
          "name": "stdout"
        },
        {
          "output_type": "stream",
          "text": [
            "\r4it [00:09,  2.34s/it]"
          ],
          "name": "stderr"
        },
        {
          "output_type": "stream",
          "text": [
            "epoch: 1 ,gen_loss: 2.692805767059326 disc_loss: 1.3861982822418213, dom_loss: 1.4831020832061768\n"
          ],
          "name": "stdout"
        },
        {
          "output_type": "stream",
          "text": [
            "5it [00:10,  2.07s/it]"
          ],
          "name": "stderr"
        },
        {
          "output_type": "stream",
          "text": [
            "epoch: 1 ,gen_loss: 2.6797006130218506 disc_loss: 1.3861706256866455, dom_loss: 1.4831022024154663\n"
          ],
          "name": "stdout"
        },
        {
          "output_type": "stream",
          "text": [
            "\n",
            "1it [00:03,  3.02s/it]"
          ],
          "name": "stderr"
        },
        {
          "output_type": "stream",
          "text": [
            "epoch: 2 ,gen_loss: 2.6861610412597656 disc_loss: 1.386122226715088, dom_loss: 1.4831020832061768\n"
          ],
          "name": "stdout"
        },
        {
          "output_type": "stream",
          "text": [
            "\r2it [00:05,  2.73s/it]"
          ],
          "name": "stderr"
        },
        {
          "output_type": "stream",
          "text": [
            "epoch: 2 ,gen_loss: 2.6905112266540527 disc_loss: 1.3860619068145752, dom_loss: 1.4831020832061768\n"
          ],
          "name": "stdout"
        },
        {
          "output_type": "stream",
          "text": [
            "\r3it [00:07,  2.53s/it]"
          ],
          "name": "stderr"
        },
        {
          "output_type": "stream",
          "text": [
            "epoch: 2 ,gen_loss: 2.6809885501861572 disc_loss: 1.385953664779663, dom_loss: 1.4831020832061768\n"
          ],
          "name": "stdout"
        },
        {
          "output_type": "stream",
          "text": [
            "\r4it [00:09,  2.39s/it]"
          ],
          "name": "stderr"
        },
        {
          "output_type": "stream",
          "text": [
            "epoch: 2 ,gen_loss: 2.6947977542877197 disc_loss: 1.3858445882797241, dom_loss: 1.4831020832061768\n"
          ],
          "name": "stdout"
        },
        {
          "output_type": "stream",
          "text": [
            "5it [00:10,  2.10s/it]"
          ],
          "name": "stderr"
        },
        {
          "output_type": "stream",
          "text": [
            "epoch: 2 ,gen_loss: 2.688599109649658 disc_loss: 1.3856520652770996, dom_loss: 1.4831022024154663\n"
          ],
          "name": "stdout"
        },
        {
          "output_type": "stream",
          "text": [
            "\n",
            "1it [00:03,  3.08s/it]"
          ],
          "name": "stderr"
        },
        {
          "output_type": "stream",
          "text": [
            "epoch: 3 ,gen_loss: 2.6880691051483154 disc_loss: 1.3854072093963623, dom_loss: 1.4831020832061768\n"
          ],
          "name": "stdout"
        },
        {
          "output_type": "stream",
          "text": [
            "\r2it [00:05,  2.79s/it]"
          ],
          "name": "stderr"
        },
        {
          "output_type": "stream",
          "text": [
            "epoch: 3 ,gen_loss: 2.691375970840454 disc_loss: 1.3851318359375, dom_loss: 1.4831020832061768\n"
          ],
          "name": "stdout"
        },
        {
          "output_type": "stream",
          "text": [
            "\r3it [00:07,  2.58s/it]"
          ],
          "name": "stderr"
        },
        {
          "output_type": "stream",
          "text": [
            "epoch: 3 ,gen_loss: 2.685227870941162 disc_loss: 1.3845906257629395, dom_loss: 1.4831020832061768\n"
          ],
          "name": "stdout"
        },
        {
          "output_type": "stream",
          "text": [
            "\r4it [00:09,  2.43s/it]"
          ],
          "name": "stderr"
        },
        {
          "output_type": "stream",
          "text": [
            "epoch: 3 ,gen_loss: 2.685528039932251 disc_loss: 1.3840457201004028, dom_loss: 1.4831020832061768\n"
          ],
          "name": "stdout"
        },
        {
          "output_type": "stream",
          "text": [
            "5it [00:10,  2.13s/it]"
          ],
          "name": "stderr"
        },
        {
          "output_type": "stream",
          "text": [
            "epoch: 3 ,gen_loss: 2.682140350341797 disc_loss: 1.3833210468292236, dom_loss: 1.4831022024154663\n"
          ],
          "name": "stdout"
        },
        {
          "output_type": "stream",
          "text": [
            "\n",
            "1it [00:02,  2.94s/it]"
          ],
          "name": "stderr"
        },
        {
          "output_type": "stream",
          "text": [
            "epoch: 4 ,gen_loss: 2.687323570251465 disc_loss: 1.3820433616638184, dom_loss: 1.4831020832061768\n"
          ],
          "name": "stdout"
        },
        {
          "output_type": "stream",
          "text": [
            "\r2it [00:05,  2.69s/it]"
          ],
          "name": "stderr"
        },
        {
          "output_type": "stream",
          "text": [
            "epoch: 4 ,gen_loss: 2.682575225830078 disc_loss: 1.3806772232055664, dom_loss: 1.4831020832061768\n"
          ],
          "name": "stdout"
        },
        {
          "output_type": "stream",
          "text": [
            "\r3it [00:07,  2.51s/it]"
          ],
          "name": "stderr"
        },
        {
          "output_type": "stream",
          "text": [
            "epoch: 4 ,gen_loss: 2.685508966445923 disc_loss: 1.378556251525879, dom_loss: 1.4831020832061768\n"
          ],
          "name": "stdout"
        },
        {
          "output_type": "stream",
          "text": [
            "\r4it [00:09,  2.38s/it]"
          ],
          "name": "stderr"
        },
        {
          "output_type": "stream",
          "text": [
            "epoch: 4 ,gen_loss: 2.6919631958007812 disc_loss: 1.3759546279907227, dom_loss: 1.4831020832061768\n"
          ],
          "name": "stdout"
        },
        {
          "output_type": "stream",
          "text": [
            "5it [00:10,  2.10s/it]"
          ],
          "name": "stderr"
        },
        {
          "output_type": "stream",
          "text": [
            "epoch: 4 ,gen_loss: 2.6930794715881348 disc_loss: 1.3730504512786865, dom_loss: 1.4831022024154663\n"
          ],
          "name": "stdout"
        },
        {
          "output_type": "stream",
          "text": [
            "\n",
            "1it [00:02,  2.98s/it]"
          ],
          "name": "stderr"
        },
        {
          "output_type": "stream",
          "text": [
            "epoch: 5 ,gen_loss: 2.69167160987854 disc_loss: 1.3689227104187012, dom_loss: 1.4831020832061768\n"
          ],
          "name": "stdout"
        },
        {
          "output_type": "stream",
          "text": [
            "\r2it [00:05,  2.72s/it]"
          ],
          "name": "stderr"
        },
        {
          "output_type": "stream",
          "text": [
            "epoch: 5 ,gen_loss: 2.6919493675231934 disc_loss: 1.364607334136963, dom_loss: 1.4831020832061768\n"
          ],
          "name": "stdout"
        },
        {
          "output_type": "stream",
          "text": [
            "\r3it [00:07,  2.54s/it]"
          ],
          "name": "stderr"
        },
        {
          "output_type": "stream",
          "text": [
            "epoch: 5 ,gen_loss: 2.6956896781921387 disc_loss: 1.36091947555542, dom_loss: 1.4831020832061768\n"
          ],
          "name": "stdout"
        },
        {
          "output_type": "stream",
          "text": [
            "\r4it [00:09,  2.41s/it]"
          ],
          "name": "stderr"
        },
        {
          "output_type": "stream",
          "text": [
            "epoch: 5 ,gen_loss: 2.686434507369995 disc_loss: 1.3542263507843018, dom_loss: 1.4831020832061768\n"
          ],
          "name": "stdout"
        },
        {
          "output_type": "stream",
          "text": [
            "5it [00:10,  2.13s/it]"
          ],
          "name": "stderr"
        },
        {
          "output_type": "stream",
          "text": [
            "epoch: 5 ,gen_loss: 2.700043201446533 disc_loss: 1.347963571548462, dom_loss: 1.4831022024154663\n"
          ],
          "name": "stdout"
        },
        {
          "output_type": "stream",
          "text": [
            "\n",
            "1it [00:02,  2.98s/it]"
          ],
          "name": "stderr"
        },
        {
          "output_type": "stream",
          "text": [
            "epoch: 6 ,gen_loss: 2.703266143798828 disc_loss: 1.3409777879714966, dom_loss: 1.4831020832061768\n"
          ],
          "name": "stdout"
        },
        {
          "output_type": "stream",
          "text": [
            "\r2it [00:05,  2.72s/it]"
          ],
          "name": "stderr"
        },
        {
          "output_type": "stream",
          "text": [
            "epoch: 6 ,gen_loss: 2.696931838989258 disc_loss: 1.3391203880310059, dom_loss: 1.4831020832061768\n"
          ],
          "name": "stdout"
        },
        {
          "output_type": "stream",
          "text": [
            "\r3it [00:07,  2.55s/it]"
          ],
          "name": "stderr"
        },
        {
          "output_type": "stream",
          "text": [
            "epoch: 6 ,gen_loss: 2.7009201049804688 disc_loss: 1.326884150505066, dom_loss: 1.4831020832061768\n"
          ],
          "name": "stdout"
        },
        {
          "output_type": "stream",
          "text": [
            "\r4it [00:09,  2.42s/it]"
          ],
          "name": "stderr"
        },
        {
          "output_type": "stream",
          "text": [
            "epoch: 6 ,gen_loss: 2.7048447132110596 disc_loss: 1.319040060043335, dom_loss: 1.4831020832061768\n"
          ],
          "name": "stdout"
        },
        {
          "output_type": "stream",
          "text": [
            "5it [00:10,  2.14s/it]"
          ],
          "name": "stderr"
        },
        {
          "output_type": "stream",
          "text": [
            "epoch: 6 ,gen_loss: 2.711082696914673 disc_loss: 1.317643165588379, dom_loss: 1.4831022024154663\n"
          ],
          "name": "stdout"
        },
        {
          "output_type": "stream",
          "text": [
            "\n",
            "1it [00:02,  2.96s/it]"
          ],
          "name": "stderr"
        },
        {
          "output_type": "stream",
          "text": [
            "epoch: 7 ,gen_loss: 2.703129529953003 disc_loss: 1.3038748502731323, dom_loss: 1.4831020832061768\n"
          ],
          "name": "stdout"
        },
        {
          "output_type": "stream",
          "text": [
            "\r2it [00:05,  2.71s/it]"
          ],
          "name": "stderr"
        },
        {
          "output_type": "stream",
          "text": [
            "epoch: 7 ,gen_loss: 2.7160327434539795 disc_loss: 1.3000953197479248, dom_loss: 1.4831020832061768\n"
          ],
          "name": "stdout"
        },
        {
          "output_type": "stream",
          "text": [
            "\r3it [00:07,  2.54s/it]"
          ],
          "name": "stderr"
        },
        {
          "output_type": "stream",
          "text": [
            "epoch: 7 ,gen_loss: 2.7194314002990723 disc_loss: 1.2960965633392334, dom_loss: 1.4831020832061768\n"
          ],
          "name": "stdout"
        },
        {
          "output_type": "stream",
          "text": [
            "\r4it [00:09,  2.42s/it]"
          ],
          "name": "stderr"
        },
        {
          "output_type": "stream",
          "text": [
            "epoch: 7 ,gen_loss: 2.7286300659179688 disc_loss: 1.2842354774475098, dom_loss: 1.4831020832061768\n"
          ],
          "name": "stdout"
        },
        {
          "output_type": "stream",
          "text": [
            "5it [00:10,  2.14s/it]"
          ],
          "name": "stderr"
        },
        {
          "output_type": "stream",
          "text": [
            "epoch: 7 ,gen_loss: 2.722545862197876 disc_loss: 1.281989574432373, dom_loss: 1.4831022024154663\n"
          ],
          "name": "stdout"
        },
        {
          "output_type": "stream",
          "text": [
            "\n",
            "1it [00:03,  3.01s/it]"
          ],
          "name": "stderr"
        },
        {
          "output_type": "stream",
          "text": [
            "epoch: 8 ,gen_loss: 2.7322633266448975 disc_loss: 1.2684745788574219, dom_loss: 1.4831020832061768\n"
          ],
          "name": "stdout"
        },
        {
          "output_type": "stream",
          "text": [
            "\r2it [00:05,  2.75s/it]"
          ],
          "name": "stderr"
        },
        {
          "output_type": "stream",
          "text": [
            "epoch: 8 ,gen_loss: 2.7339651584625244 disc_loss: 1.2614749670028687, dom_loss: 1.4831020832061768\n"
          ],
          "name": "stdout"
        },
        {
          "output_type": "stream",
          "text": [
            "\r3it [00:07,  2.57s/it]"
          ],
          "name": "stderr"
        },
        {
          "output_type": "stream",
          "text": [
            "epoch: 8 ,gen_loss: 2.7407307624816895 disc_loss: 1.2558362483978271, dom_loss: 1.4831020832061768\n"
          ],
          "name": "stdout"
        },
        {
          "output_type": "stream",
          "text": [
            "\r4it [00:09,  2.44s/it]"
          ],
          "name": "stderr"
        },
        {
          "output_type": "stream",
          "text": [
            "epoch: 8 ,gen_loss: 2.7394702434539795 disc_loss: 1.2546241283416748, dom_loss: 1.4831020832061768\n"
          ],
          "name": "stdout"
        },
        {
          "output_type": "stream",
          "text": [
            "5it [00:10,  2.15s/it]"
          ],
          "name": "stderr"
        },
        {
          "output_type": "stream",
          "text": [
            "epoch: 8 ,gen_loss: 2.751732349395752 disc_loss: 1.263963222503662, dom_loss: 1.4831022024154663\n"
          ],
          "name": "stdout"
        },
        {
          "output_type": "stream",
          "text": [
            "\n",
            "1it [00:03,  3.15s/it]"
          ],
          "name": "stderr"
        },
        {
          "output_type": "stream",
          "text": [
            "epoch: 9 ,gen_loss: 2.7678234577178955 disc_loss: 1.2257521152496338, dom_loss: 1.4831020832061768\n"
          ],
          "name": "stdout"
        },
        {
          "output_type": "stream",
          "text": [
            "\r2it [00:05,  2.84s/it]"
          ],
          "name": "stderr"
        },
        {
          "output_type": "stream",
          "text": [
            "epoch: 9 ,gen_loss: 2.7544288635253906 disc_loss: 1.2343637943267822, dom_loss: 1.4831020832061768\n"
          ],
          "name": "stdout"
        },
        {
          "output_type": "stream",
          "text": [
            "\r3it [00:07,  2.63s/it]"
          ],
          "name": "stderr"
        },
        {
          "output_type": "stream",
          "text": [
            "epoch: 9 ,gen_loss: 2.749260425567627 disc_loss: 1.2407115697860718, dom_loss: 1.4831020832061768\n"
          ],
          "name": "stdout"
        },
        {
          "output_type": "stream",
          "text": [
            "\r4it [00:09,  2.48s/it]"
          ],
          "name": "stderr"
        },
        {
          "output_type": "stream",
          "text": [
            "epoch: 9 ,gen_loss: 2.765650987625122 disc_loss: 1.208492636680603, dom_loss: 1.4831020832061768\n"
          ],
          "name": "stdout"
        },
        {
          "output_type": "stream",
          "text": [
            "5it [00:10,  2.17s/it]"
          ],
          "name": "stderr"
        },
        {
          "output_type": "stream",
          "text": [
            "epoch: 9 ,gen_loss: 2.7710494995117188 disc_loss: 1.215327262878418, dom_loss: 1.4831022024154663\n"
          ],
          "name": "stdout"
        },
        {
          "output_type": "stream",
          "text": [
            "\n",
            "1it [00:02,  2.96s/it]"
          ],
          "name": "stderr"
        },
        {
          "output_type": "stream",
          "text": [
            "epoch: 10 ,gen_loss: 2.755741834640503 disc_loss: 1.2135636806488037, dom_loss: 1.4831020832061768\n"
          ],
          "name": "stdout"
        },
        {
          "output_type": "stream",
          "text": [
            "\r2it [00:05,  2.71s/it]"
          ],
          "name": "stderr"
        },
        {
          "output_type": "stream",
          "text": [
            "epoch: 10 ,gen_loss: 2.7830421924591064 disc_loss: 1.2276241779327393, dom_loss: 1.4831020832061768\n"
          ],
          "name": "stdout"
        },
        {
          "output_type": "stream",
          "text": [
            "\r3it [00:07,  2.53s/it]"
          ],
          "name": "stderr"
        },
        {
          "output_type": "stream",
          "text": [
            "epoch: 10 ,gen_loss: 2.7745044231414795 disc_loss: 1.195823311805725, dom_loss: 1.4831020832061768\n"
          ],
          "name": "stdout"
        },
        {
          "output_type": "stream",
          "text": [
            "\r4it [00:09,  2.41s/it]"
          ],
          "name": "stderr"
        },
        {
          "output_type": "stream",
          "text": [
            "epoch: 10 ,gen_loss: 2.800161361694336 disc_loss: 1.1826804876327515, dom_loss: 1.4831020832061768\n"
          ],
          "name": "stdout"
        },
        {
          "output_type": "stream",
          "text": [
            "5it [00:10,  2.12s/it]"
          ],
          "name": "stderr"
        },
        {
          "output_type": "stream",
          "text": [
            "epoch: 10 ,gen_loss: 2.79890775680542 disc_loss: 1.1702803373336792, dom_loss: 1.4831022024154663\n"
          ],
          "name": "stdout"
        },
        {
          "output_type": "stream",
          "text": [
            "\n",
            "1it [00:03,  3.13s/it]"
          ],
          "name": "stderr"
        },
        {
          "output_type": "stream",
          "text": [
            "epoch: 11 ,gen_loss: 2.7913894653320312 disc_loss: 1.1630487442016602, dom_loss: 1.4831020832061768\n"
          ],
          "name": "stdout"
        },
        {
          "output_type": "stream",
          "text": [
            "\r2it [00:05,  2.83s/it]"
          ],
          "name": "stderr"
        },
        {
          "output_type": "stream",
          "text": [
            "epoch: 11 ,gen_loss: 2.811211109161377 disc_loss: 1.1559460163116455, dom_loss: 1.4831020832061768\n"
          ],
          "name": "stdout"
        },
        {
          "output_type": "stream",
          "text": [
            "\r3it [00:07,  2.61s/it]"
          ],
          "name": "stderr"
        },
        {
          "output_type": "stream",
          "text": [
            "epoch: 11 ,gen_loss: 2.7999463081359863 disc_loss: 1.2093665599822998, dom_loss: 1.4831020832061768\n"
          ],
          "name": "stdout"
        },
        {
          "output_type": "stream",
          "text": [
            "\r4it [00:09,  2.46s/it]"
          ],
          "name": "stderr"
        },
        {
          "output_type": "stream",
          "text": [
            "epoch: 11 ,gen_loss: 2.8243114948272705 disc_loss: 1.1673465967178345, dom_loss: 1.4831020832061768\n"
          ],
          "name": "stdout"
        },
        {
          "output_type": "stream",
          "text": [
            "5it [00:10,  2.15s/it]"
          ],
          "name": "stderr"
        },
        {
          "output_type": "stream",
          "text": [
            "epoch: 11 ,gen_loss: 2.8192813396453857 disc_loss: 1.1331377029418945, dom_loss: 1.4831022024154663\n"
          ],
          "name": "stdout"
        },
        {
          "output_type": "stream",
          "text": [
            "\n",
            "1it [00:03,  3.10s/it]"
          ],
          "name": "stderr"
        },
        {
          "output_type": "stream",
          "text": [
            "epoch: 12 ,gen_loss: 2.826509952545166 disc_loss: 1.1468071937561035, dom_loss: 1.4831020832061768\n"
          ],
          "name": "stdout"
        },
        {
          "output_type": "stream",
          "text": [
            "\r2it [00:05,  2.80s/it]"
          ],
          "name": "stderr"
        },
        {
          "output_type": "stream",
          "text": [
            "epoch: 12 ,gen_loss: 2.820345878601074 disc_loss: 1.122021198272705, dom_loss: 1.4831020832061768\n"
          ],
          "name": "stdout"
        },
        {
          "output_type": "stream",
          "text": [
            "\r3it [00:07,  2.60s/it]"
          ],
          "name": "stderr"
        },
        {
          "output_type": "stream",
          "text": [
            "epoch: 12 ,gen_loss: 2.836486339569092 disc_loss: 1.1372272968292236, dom_loss: 1.4831020832061768\n"
          ],
          "name": "stdout"
        },
        {
          "output_type": "stream",
          "text": [
            "\r4it [00:09,  2.45s/it]"
          ],
          "name": "stderr"
        },
        {
          "output_type": "stream",
          "text": [
            "epoch: 12 ,gen_loss: 2.816864490509033 disc_loss: 1.1396307945251465, dom_loss: 1.4831020832061768\n"
          ],
          "name": "stdout"
        },
        {
          "output_type": "stream",
          "text": [
            "5it [00:10,  2.15s/it]"
          ],
          "name": "stderr"
        },
        {
          "output_type": "stream",
          "text": [
            "epoch: 12 ,gen_loss: 2.8285112380981445 disc_loss: 1.113823413848877, dom_loss: 1.4831022024154663\n"
          ],
          "name": "stdout"
        },
        {
          "output_type": "stream",
          "text": [
            "\n",
            "1it [00:02,  2.96s/it]"
          ],
          "name": "stderr"
        },
        {
          "output_type": "stream",
          "text": [
            "epoch: 13 ,gen_loss: 2.8344640731811523 disc_loss: 1.1431008577346802, dom_loss: 1.4831020832061768\n"
          ],
          "name": "stdout"
        },
        {
          "output_type": "stream",
          "text": [
            "\r2it [00:05,  2.70s/it]"
          ],
          "name": "stderr"
        },
        {
          "output_type": "stream",
          "text": [
            "epoch: 13 ,gen_loss: 2.8352601528167725 disc_loss: 1.1074178218841553, dom_loss: 1.4831020832061768\n"
          ],
          "name": "stdout"
        },
        {
          "output_type": "stream",
          "text": [
            "\r3it [00:07,  2.53s/it]"
          ],
          "name": "stderr"
        },
        {
          "output_type": "stream",
          "text": [
            "epoch: 13 ,gen_loss: 2.8407700061798096 disc_loss: 1.102787971496582, dom_loss: 1.4831020832061768\n"
          ],
          "name": "stdout"
        },
        {
          "output_type": "stream",
          "text": [
            "\r4it [00:09,  2.41s/it]"
          ],
          "name": "stderr"
        },
        {
          "output_type": "stream",
          "text": [
            "epoch: 13 ,gen_loss: 2.854306936264038 disc_loss: 1.1096792221069336, dom_loss: 1.4831020832061768\n"
          ],
          "name": "stdout"
        },
        {
          "output_type": "stream",
          "text": [
            "5it [00:10,  2.12s/it]"
          ],
          "name": "stderr"
        },
        {
          "output_type": "stream",
          "text": [
            "epoch: 13 ,gen_loss: 2.871918201446533 disc_loss: 1.0732399225234985, dom_loss: 1.4831022024154663\n"
          ],
          "name": "stdout"
        },
        {
          "output_type": "stream",
          "text": [
            "\n",
            "1it [00:02,  2.99s/it]"
          ],
          "name": "stderr"
        },
        {
          "output_type": "stream",
          "text": [
            "epoch: 14 ,gen_loss: 2.8626887798309326 disc_loss: 1.07789945602417, dom_loss: 1.4831020832061768\n"
          ],
          "name": "stdout"
        },
        {
          "output_type": "stream",
          "text": [
            "\r2it [00:05,  2.73s/it]"
          ],
          "name": "stderr"
        },
        {
          "output_type": "stream",
          "text": [
            "epoch: 14 ,gen_loss: 2.87661075592041 disc_loss: 1.085977554321289, dom_loss: 1.4831020832061768\n"
          ],
          "name": "stdout"
        },
        {
          "output_type": "stream",
          "text": [
            "\r3it [00:07,  2.55s/it]"
          ],
          "name": "stderr"
        },
        {
          "output_type": "stream",
          "text": [
            "epoch: 14 ,gen_loss: 2.8889994621276855 disc_loss: 1.0919110774993896, dom_loss: 1.4831020832061768\n"
          ],
          "name": "stdout"
        },
        {
          "output_type": "stream",
          "text": [
            "\r4it [00:09,  2.42s/it]"
          ],
          "name": "stderr"
        },
        {
          "output_type": "stream",
          "text": [
            "epoch: 14 ,gen_loss: 2.8542098999023438 disc_loss: 1.0949046611785889, dom_loss: 1.4831020832061768\n"
          ],
          "name": "stdout"
        },
        {
          "output_type": "stream",
          "text": [
            "5it [00:10,  2.14s/it]"
          ],
          "name": "stderr"
        },
        {
          "output_type": "stream",
          "text": [
            "epoch: 14 ,gen_loss: 2.873405694961548 disc_loss: 1.0772998332977295, dom_loss: 1.4831022024154663\n"
          ],
          "name": "stdout"
        },
        {
          "output_type": "stream",
          "text": [
            "\n",
            "1it [00:03,  3.13s/it]"
          ],
          "name": "stderr"
        },
        {
          "output_type": "stream",
          "text": [
            "epoch: 15 ,gen_loss: 2.87831974029541 disc_loss: 1.0667660236358643, dom_loss: 1.4831020832061768\n"
          ],
          "name": "stdout"
        },
        {
          "output_type": "stream",
          "text": [
            "\r2it [00:05,  2.82s/it]"
          ],
          "name": "stderr"
        },
        {
          "output_type": "stream",
          "text": [
            "epoch: 15 ,gen_loss: 2.8730597496032715 disc_loss: 1.0535869598388672, dom_loss: 1.4831020832061768\n"
          ],
          "name": "stdout"
        },
        {
          "output_type": "stream",
          "text": [
            "\r3it [00:07,  2.61s/it]"
          ],
          "name": "stderr"
        },
        {
          "output_type": "stream",
          "text": [
            "epoch: 15 ,gen_loss: 2.892035484313965 disc_loss: 1.0426892042160034, dom_loss: 1.4831020832061768\n"
          ],
          "name": "stdout"
        },
        {
          "output_type": "stream",
          "text": [
            "\r4it [00:09,  2.47s/it]"
          ],
          "name": "stderr"
        },
        {
          "output_type": "stream",
          "text": [
            "epoch: 15 ,gen_loss: 2.8974263668060303 disc_loss: 1.049870252609253, dom_loss: 1.4831020832061768\n"
          ],
          "name": "stdout"
        },
        {
          "output_type": "stream",
          "text": [
            "5it [00:10,  2.16s/it]"
          ],
          "name": "stderr"
        },
        {
          "output_type": "stream",
          "text": [
            "epoch: 15 ,gen_loss: 2.9144277572631836 disc_loss: 1.0186101198196411, dom_loss: 1.4831022024154663\n"
          ],
          "name": "stdout"
        },
        {
          "output_type": "stream",
          "text": [
            "\n",
            "1it [00:03,  3.15s/it]"
          ],
          "name": "stderr"
        },
        {
          "output_type": "stream",
          "text": [
            "epoch: 16 ,gen_loss: 2.913801908493042 disc_loss: 1.0109238624572754, dom_loss: 1.4831020832061768\n"
          ],
          "name": "stdout"
        },
        {
          "output_type": "stream",
          "text": [
            "\r2it [00:05,  2.84s/it]"
          ],
          "name": "stderr"
        },
        {
          "output_type": "stream",
          "text": [
            "epoch: 16 ,gen_loss: 2.885397434234619 disc_loss: 1.0394399166107178, dom_loss: 1.4831020832061768\n"
          ],
          "name": "stdout"
        },
        {
          "output_type": "stream",
          "text": [
            "\r3it [00:07,  2.63s/it]"
          ],
          "name": "stderr"
        },
        {
          "output_type": "stream",
          "text": [
            "epoch: 16 ,gen_loss: 2.9189937114715576 disc_loss: 1.0216349363327026, dom_loss: 1.4831020832061768\n"
          ],
          "name": "stdout"
        },
        {
          "output_type": "stream",
          "text": [
            "\r4it [00:09,  2.48s/it]"
          ],
          "name": "stderr"
        },
        {
          "output_type": "stream",
          "text": [
            "epoch: 16 ,gen_loss: 2.9281091690063477 disc_loss: 0.9985781908035278, dom_loss: 1.4831020832061768\n"
          ],
          "name": "stdout"
        },
        {
          "output_type": "stream",
          "text": [
            "5it [00:10,  2.17s/it]"
          ],
          "name": "stderr"
        },
        {
          "output_type": "stream",
          "text": [
            "epoch: 16 ,gen_loss: 2.9120664596557617 disc_loss: 1.0056723356246948, dom_loss: 1.4831022024154663\n"
          ],
          "name": "stdout"
        },
        {
          "output_type": "stream",
          "text": [
            "\n",
            "1it [00:02,  2.99s/it]"
          ],
          "name": "stderr"
        },
        {
          "output_type": "stream",
          "text": [
            "epoch: 17 ,gen_loss: 2.907053232192993 disc_loss: 0.9950844645500183, dom_loss: 1.4831020832061768\n"
          ],
          "name": "stdout"
        },
        {
          "output_type": "stream",
          "text": [
            "\r2it [00:05,  2.73s/it]"
          ],
          "name": "stderr"
        },
        {
          "output_type": "stream",
          "text": [
            "epoch: 17 ,gen_loss: 2.9301342964172363 disc_loss: 0.9929980039596558, dom_loss: 1.4831020832061768\n"
          ],
          "name": "stdout"
        },
        {
          "output_type": "stream",
          "text": [
            "\r3it [00:07,  2.55s/it]"
          ],
          "name": "stderr"
        },
        {
          "output_type": "stream",
          "text": [
            "epoch: 17 ,gen_loss: 2.938490152359009 disc_loss: 0.9854108691215515, dom_loss: 1.4831020832061768\n"
          ],
          "name": "stdout"
        },
        {
          "output_type": "stream",
          "text": [
            "\r4it [00:09,  2.42s/it]"
          ],
          "name": "stderr"
        },
        {
          "output_type": "stream",
          "text": [
            "epoch: 17 ,gen_loss: 2.936882257461548 disc_loss: 0.9848880767822266, dom_loss: 1.4831020832061768\n"
          ],
          "name": "stdout"
        },
        {
          "output_type": "stream",
          "text": [
            "5it [00:10,  2.14s/it]"
          ],
          "name": "stderr"
        },
        {
          "output_type": "stream",
          "text": [
            "epoch: 17 ,gen_loss: 2.913141965866089 disc_loss: 0.9962718486785889, dom_loss: 1.4831022024154663\n"
          ],
          "name": "stdout"
        },
        {
          "output_type": "stream",
          "text": [
            "\n",
            "1it [00:02,  2.97s/it]"
          ],
          "name": "stderr"
        },
        {
          "output_type": "stream",
          "text": [
            "epoch: 18 ,gen_loss: 2.9348857402801514 disc_loss: 0.984254002571106, dom_loss: 1.4831020832061768\n"
          ],
          "name": "stdout"
        },
        {
          "output_type": "stream",
          "text": [
            "\r2it [00:05,  2.72s/it]"
          ],
          "name": "stderr"
        },
        {
          "output_type": "stream",
          "text": [
            "epoch: 18 ,gen_loss: 2.9565834999084473 disc_loss: 0.9565496444702148, dom_loss: 1.4831020832061768\n"
          ],
          "name": "stdout"
        },
        {
          "output_type": "stream",
          "text": [
            "\r3it [00:07,  2.54s/it]"
          ],
          "name": "stderr"
        },
        {
          "output_type": "stream",
          "text": [
            "epoch: 18 ,gen_loss: 2.9260239601135254 disc_loss: 0.9834131002426147, dom_loss: 1.4831020832061768\n"
          ],
          "name": "stdout"
        },
        {
          "output_type": "stream",
          "text": [
            "\r4it [00:09,  2.42s/it]"
          ],
          "name": "stderr"
        },
        {
          "output_type": "stream",
          "text": [
            "epoch: 18 ,gen_loss: 2.9611899852752686 disc_loss: 0.9515508413314819, dom_loss: 1.4831020832061768\n"
          ],
          "name": "stdout"
        },
        {
          "output_type": "stream",
          "text": [
            "5it [00:10,  2.14s/it]"
          ],
          "name": "stderr"
        },
        {
          "output_type": "stream",
          "text": [
            "epoch: 18 ,gen_loss: 2.968740940093994 disc_loss: 0.9426282048225403, dom_loss: 1.4831022024154663\n"
          ],
          "name": "stdout"
        },
        {
          "output_type": "stream",
          "text": [
            "\n",
            "1it [00:03,  3.14s/it]"
          ],
          "name": "stderr"
        },
        {
          "output_type": "stream",
          "text": [
            "epoch: 19 ,gen_loss: 2.9519436359405518 disc_loss: 0.9472297430038452, dom_loss: 1.4831020832061768\n"
          ],
          "name": "stdout"
        },
        {
          "output_type": "stream",
          "text": [
            "\r2it [00:05,  2.84s/it]"
          ],
          "name": "stderr"
        },
        {
          "output_type": "stream",
          "text": [
            "epoch: 19 ,gen_loss: 2.929492950439453 disc_loss: 0.9641337394714355, dom_loss: 1.4831020832061768\n"
          ],
          "name": "stdout"
        },
        {
          "output_type": "stream",
          "text": [
            "\r3it [00:07,  2.62s/it]"
          ],
          "name": "stderr"
        },
        {
          "output_type": "stream",
          "text": [
            "epoch: 19 ,gen_loss: 2.98134708404541 disc_loss: 0.9381029009819031, dom_loss: 1.4831020832061768\n"
          ],
          "name": "stdout"
        },
        {
          "output_type": "stream",
          "text": [
            "\r4it [00:09,  2.48s/it]"
          ],
          "name": "stderr"
        },
        {
          "output_type": "stream",
          "text": [
            "epoch: 19 ,gen_loss: 2.9999642372131348 disc_loss: 0.9169908165931702, dom_loss: 1.4831020832061768\n"
          ],
          "name": "stdout"
        },
        {
          "output_type": "stream",
          "text": [
            "5it [00:10,  2.17s/it]"
          ],
          "name": "stderr"
        },
        {
          "output_type": "stream",
          "text": [
            "epoch: 19 ,gen_loss: 2.9801039695739746 disc_loss: 0.9231578707695007, dom_loss: 1.4831022024154663\n"
          ],
          "name": "stdout"
        },
        {
          "output_type": "stream",
          "text": [
            "\n",
            "1it [00:02,  2.97s/it]"
          ],
          "name": "stderr"
        },
        {
          "output_type": "stream",
          "text": [
            "epoch: 20 ,gen_loss: 2.9561359882354736 disc_loss: 0.9285066723823547, dom_loss: 1.4831020832061768\n"
          ],
          "name": "stdout"
        },
        {
          "output_type": "stream",
          "text": [
            "\r2it [00:05,  2.72s/it]"
          ],
          "name": "stderr"
        },
        {
          "output_type": "stream",
          "text": [
            "epoch: 20 ,gen_loss: 2.9924395084381104 disc_loss: 0.9112275838851929, dom_loss: 1.4831020832061768\n"
          ],
          "name": "stdout"
        },
        {
          "output_type": "stream",
          "text": [
            "\r3it [00:07,  2.54s/it]"
          ],
          "name": "stderr"
        },
        {
          "output_type": "stream",
          "text": [
            "epoch: 20 ,gen_loss: 2.973004102706909 disc_loss: 0.9290133714675903, dom_loss: 1.4831020832061768\n"
          ],
          "name": "stdout"
        },
        {
          "output_type": "stream",
          "text": [
            "\r4it [00:09,  2.42s/it]"
          ],
          "name": "stderr"
        },
        {
          "output_type": "stream",
          "text": [
            "epoch: 20 ,gen_loss: 2.9685287475585938 disc_loss: 0.9186382293701172, dom_loss: 1.4831020832061768\n"
          ],
          "name": "stdout"
        },
        {
          "output_type": "stream",
          "text": [
            "5it [00:10,  2.13s/it]"
          ],
          "name": "stderr"
        },
        {
          "output_type": "stream",
          "text": [
            "epoch: 20 ,gen_loss: 3.027373790740967 disc_loss: 0.8861271739006042, dom_loss: 1.4831022024154663\n"
          ],
          "name": "stdout"
        },
        {
          "output_type": "stream",
          "text": [
            "\n",
            "1it [00:02,  2.96s/it]"
          ],
          "name": "stderr"
        },
        {
          "output_type": "stream",
          "text": [
            "epoch: 21 ,gen_loss: 2.9937150478363037 disc_loss: 0.9150581359863281, dom_loss: 1.4831020832061768\n"
          ],
          "name": "stdout"
        },
        {
          "output_type": "stream",
          "text": [
            "\r2it [00:05,  2.71s/it]"
          ],
          "name": "stderr"
        },
        {
          "output_type": "stream",
          "text": [
            "epoch: 21 ,gen_loss: 2.968731641769409 disc_loss: 0.9238983392715454, dom_loss: 1.4831020832061768\n"
          ],
          "name": "stdout"
        },
        {
          "output_type": "stream",
          "text": [
            "\r3it [00:07,  2.54s/it]"
          ],
          "name": "stderr"
        },
        {
          "output_type": "stream",
          "text": [
            "epoch: 21 ,gen_loss: 3.028318405151367 disc_loss: 0.8940372467041016, dom_loss: 1.4831020832061768\n"
          ],
          "name": "stdout"
        },
        {
          "output_type": "stream",
          "text": [
            "\r4it [00:09,  2.41s/it]"
          ],
          "name": "stderr"
        },
        {
          "output_type": "stream",
          "text": [
            "epoch: 21 ,gen_loss: 3.0261971950531006 disc_loss: 0.876964807510376, dom_loss: 1.4831020832061768\n"
          ],
          "name": "stdout"
        },
        {
          "output_type": "stream",
          "text": [
            "5it [00:10,  2.13s/it]"
          ],
          "name": "stderr"
        },
        {
          "output_type": "stream",
          "text": [
            "epoch: 21 ,gen_loss: 2.9896798133850098 disc_loss: 0.8836583495140076, dom_loss: 1.4831022024154663\n"
          ],
          "name": "stdout"
        },
        {
          "output_type": "stream",
          "text": [
            "\n",
            "1it [00:02,  3.00s/it]"
          ],
          "name": "stderr"
        },
        {
          "output_type": "stream",
          "text": [
            "epoch: 22 ,gen_loss: 2.9916903972625732 disc_loss: 0.883508563041687, dom_loss: 1.4831020832061768\n"
          ],
          "name": "stdout"
        }
      ]
    },
    {
      "cell_type": "code",
      "metadata": {
        "id": "ZJA76sTWen9W"
      },
      "source": [
        ""
      ],
      "execution_count": null,
      "outputs": []
    }
  ]
}